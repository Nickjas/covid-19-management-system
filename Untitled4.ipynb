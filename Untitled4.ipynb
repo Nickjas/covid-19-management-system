{
 "cells": [
  {
   "cell_type": "code",
   "execution_count": 27,
   "metadata": {},
   "outputs": [
    {
     "name": "stdout",
     "output_type": "stream",
     "text": [
      "(34, 4)\n",
      "('1', '2', '3', '4', '5')\n",
      "1\n",
      "2\n",
      "3\n",
      "4\n",
      "5\n"
     ]
    }
   ],
   "source": [
    "\n",
    "from tkinter import *\n",
    "from tkinter import ttk\n",
    "import pandas as pd\n",
    "from tkinter import filedialog\n",
    "from tkinter.filedialog import askopenfile\n",
    "root = Tk()\n",
    "root.geometry(\"1500x200\")\n",
    "\n",
    "data = []\n",
    "file = ('C:/Users/HP/Desktop/covid/Attendace_management_system-master/Attendace_management_system-master/StudentDetails/StudentDetails.csv')\n",
    "csv_data = pd.read_csv(file,header=True)\n",
    "k = csv_data.shape\n",
    "print(k)\n",
    "values = csv_data.values\n",
    "columns = csv_data.columns\n",
    "frame = Frame(root,height=500,width=500)\n",
    "frame.pack(fill='both',expand=1)\n",
    "tree = ttk.Treeview(frame, columns = (sorted(col for col in range(1,k[1]+2))),height = 2, show = \"headings\")\n",
    "print(tree['columns'])\n",
    "tree.pack(side = 'left',fill='both',expand=1)\n",
    "\n",
    "scroll1 = Scrollbar(frame, orient=\"vertical\", command=tree.yview)\n",
    "scroll1.pack(side = 'right', fill = 'y')\n",
    "\n",
    "tree.configure(yscrollcommand=scroll1.set)\n",
    "\n",
    "scroll2 = Scrollbar(root, orient=\"horizontal\", command=tree.xview)\n",
    "scroll2.pack(side = 'bottom', fill = 'x')\n",
    "\n",
    "tree.configure(xscrollcommand=scroll2.set)\n",
    "\n",
    "for i in range(1,k[1]+2):\n",
    "    print(i)\n",
    "    tree.heading(i, text=i)#(k for k in range(k[1]))\n",
    "    tree.column(i, width = 80)\n",
    "\n",
    "\n",
    "for i,val in enumerate(values):\n",
    "\n",
    "    i1 = i%2\n",
    "    if (i1==0):\n",
    "\n",
    "        tree.insert('', 'end', values = (val[sorted(j for j in range(k[1]))]),tag = 'gray')\n",
    "\n",
    "        #tree.insert('', 'end', values = (val[0],val[1],val[2],val[3]),tag = 'gray')\n",
    "    else:\n",
    "        tree.insert('', 'end', values = (val[0],val[1],val[2],val[3]))\n",
    "        #tree.insert('', 'end', values = (val[sorted(j for j in range(k[1]))]))\n",
    "tree.tag_configure('gray', background='#cccccc')  \n",
    "tree.tag_configure('gray', background='#cccccc')        \n",
    "root.mainloop()"
   ]
  },
  {
   "cell_type": "code",
   "execution_count": 15,
   "metadata": {},
   "outputs": [
    {
     "data": {
      "text/plain": [
       "[('Ramya', 'Rama priya', 27, 'F', 9000)]"
      ]
     },
     "execution_count": 15,
     "metadata": {},
     "output_type": "execute_result"
    }
   ],
   "source": [
    "cursor.execute(\"\"\"SELECT * from books\"\"\")\n",
    "cursor.fetchall()"
   ]
  }
 ],
 "metadata": {
  "kernelspec": {
   "display_name": "Python 3",
   "language": "python",
   "name": "python3"
  },
  "language_info": {
   "codemirror_mode": {
    "name": "ipython",
    "version": 3
   },
   "file_extension": ".py",
   "mimetype": "text/x-python",
   "name": "python",
   "nbconvert_exporter": "python",
   "pygments_lexer": "ipython3",
   "version": "3.7.8"
  }
 },
 "nbformat": 4,
 "nbformat_minor": 4
}
